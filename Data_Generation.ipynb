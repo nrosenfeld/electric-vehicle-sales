{
 "cells": [
  {
   "cell_type": "code",
   "execution_count": 1,
   "metadata": {},
   "outputs": [],
   "source": [
    "import tabula\n",
    "import pandas as pd\n",
    "import numpy as np"
   ]
  },
  {
   "cell_type": "code",
   "execution_count": 2,
   "metadata": {},
   "outputs": [
    {
     "name": "stderr",
     "output_type": "stream",
     "text": [
      "Error importing jpype dependencies. Fallback to subprocess.\n",
      "No module named 'jpype'\n"
     ]
    }
   ],
   "source": [
    "df = tabula.read_pdf('https://www.anl.gov/sites/www/files/2024-02/Total%20Sales%20for%20Website_January%202024.pdf', pages=1, lattice = True, pandas_options = {'header':1})"
   ]
  },
  {
   "cell_type": "code",
   "execution_count": 3,
   "metadata": {},
   "outputs": [
    {
     "name": "stderr",
     "output_type": "stream",
     "text": [
      "/var/folders/cx/t1tlcrwd4m5_6xpvvl8yyv5c0000gn/T/ipykernel_41351/2427601064.py:2: SettingWithCopyWarning: \n",
      "A value is trying to be set on a copy of a slice from a DataFrame.\n",
      "Try using .loc[row_indexer,col_indexer] = value instead\n",
      "\n",
      "See the caveats in the documentation: https://pandas.pydata.org/pandas-docs/stable/user_guide/indexing.html#returning-a-view-versus-a-copy\n",
      "  first['BEV'] = first.BEV.str.replace(',', '').astype(int)\n",
      "/var/folders/cx/t1tlcrwd4m5_6xpvvl8yyv5c0000gn/T/ipykernel_41351/2427601064.py:3: SettingWithCopyWarning: \n",
      "A value is trying to be set on a copy of a slice from a DataFrame.\n",
      "Try using .loc[row_indexer,col_indexer] = value instead\n",
      "\n",
      "See the caveats in the documentation: https://pandas.pydata.org/pandas-docs/stable/user_guide/indexing.html#returning-a-view-versus-a-copy\n",
      "  first['PHEV'] = first.PHEV.str.replace(',', '').astype(int)\n",
      "/var/folders/cx/t1tlcrwd4m5_6xpvvl8yyv5c0000gn/T/ipykernel_41351/2427601064.py:4: SettingWithCopyWarning: \n",
      "A value is trying to be set on a copy of a slice from a DataFrame.\n",
      "Try using .loc[row_indexer,col_indexer] = value instead\n",
      "\n",
      "See the caveats in the documentation: https://pandas.pydata.org/pandas-docs/stable/user_guide/indexing.html#returning-a-view-versus-a-copy\n",
      "  first['HEV'] = first.HEV.str.replace(',', '').astype(int)\n",
      "/var/folders/cx/t1tlcrwd4m5_6xpvvl8yyv5c0000gn/T/ipykernel_41351/2427601064.py:5: SettingWithCopyWarning: \n",
      "A value is trying to be set on a copy of a slice from a DataFrame.\n",
      "Try using .loc[row_indexer,col_indexer] = value instead\n",
      "\n",
      "See the caveats in the documentation: https://pandas.pydata.org/pandas-docs/stable/user_guide/indexing.html#returning-a-view-versus-a-copy\n",
      "  first['Total LDV'] = first.loc[:,'Total LDV'].str.replace(',', '').astype(int)\n"
     ]
    }
   ],
   "source": [
    "first = df[0].dropna()\n",
    "first['BEV'] = first.BEV.str.replace(',', '').astype(int)\n",
    "first['PHEV'] = first.PHEV.str.replace(',', '').astype(int)\n",
    "first['HEV'] = first.HEV.str.replace(',', '').astype(int)\n",
    "first['Total LDV'] = first.loc[:,'Total LDV'].str.replace(',', '').astype(int)"
   ]
  },
  {
   "cell_type": "code",
   "execution_count": 5,
   "metadata": {},
   "outputs": [],
   "source": [
    "total = first"
   ]
  },
  {
   "cell_type": "code",
   "execution_count": 6,
   "metadata": {},
   "outputs": [],
   "source": [
    "for i in range(2, 5):\n",
    "    df = tabula.read_pdf('https://www.anl.gov/sites/www/files/2024-02/Total%20Sales%20for%20Website_January%202024.pdf', pages=i, lattice = True, pandas_options = {'header':None, 'names':['Month', 'BEV', 'PHEV', 'HEV', 'Total LDV']})\n",
    "    first = df[0]\n",
    "    first['BEV'] = first.BEV.str.replace(',', '').astype(int)\n",
    "    first['PHEV'] = first.PHEV.str.replace(',', '').astype(int)\n",
    "    first['HEV'] = first.HEV.str.replace(',', '').astype(int)\n",
    "    first['Total LDV'] = first.loc[:,'Total LDV'].str.replace(',', '').astype(int)\n",
    "    total = pd.concat([total, first], ignore_index=True, axis = 0)\n",
    "\n",
    "    "
   ]
  },
  {
   "cell_type": "code",
   "execution_count": 7,
   "metadata": {},
   "outputs": [],
   "source": [
    "total.to_csv('Electric_Vehicle_Sales_Data.csv', index = False)"
   ]
  },
  {
   "cell_type": "code",
   "execution_count": null,
   "metadata": {},
   "outputs": [],
   "source": []
  }
 ],
 "metadata": {
  "kernelspec": {
   "display_name": "Python 3.11.1 64-bit ('3.11.1')",
   "language": "python",
   "name": "python3"
  },
  "language_info": {
   "codemirror_mode": {
    "name": "ipython",
    "version": 3
   },
   "file_extension": ".py",
   "mimetype": "text/x-python",
   "name": "python",
   "nbconvert_exporter": "python",
   "pygments_lexer": "ipython3",
   "version": "3.11.1"
  },
  "orig_nbformat": 4,
  "vscode": {
   "interpreter": {
    "hash": "78fb5ddef5409248e879fcf7c23a295ce3d50234e524ff4eb9a04452631dfbf8"
   }
  }
 },
 "nbformat": 4,
 "nbformat_minor": 2
}
